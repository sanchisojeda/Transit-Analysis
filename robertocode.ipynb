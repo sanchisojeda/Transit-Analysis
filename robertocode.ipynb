{
 "cells": [
  {
   "cell_type": "code",
   "execution_count": 4,
   "metadata": {
    "collapsed": true
   },
   "outputs": [],
   "source": [
    "%matplotlib inline\n",
    "import pandas as pd\n",
    "import transit\n",
    "import numpy as np\n",
    "import matplotlib.pyplot as plt\n",
    "import scipy.optimize as op\n",
    "import emcee"
   ]
  },
  {
   "cell_type": "code",
   "execution_count": 5,
   "metadata": {
    "collapsed": false
   },
   "outputs": [],
   "source": [
    "data = pd.read_table('LCdata.txt', sep='\\s+', header = None, names=['time', 'flux'])\n",
    "timeLC = data['time']\n",
    "fluxLC = data['flux']\n",
    "oot = np.abs(24.0*timeLC) >= 1.1 #points outside of transit\n",
    "errorLC = np.std(fluxLC[oot])"
   ]
  },
  {
   "cell_type": "code",
   "execution_count": 10,
   "metadata": {
    "collapsed": false
   },
   "outputs": [],
   "source": [
    "## Planet properties\n",
    "depth = 0.000174 #initial guess\n",
    "\n",
    "period =  0.6892099 \n",
    "ecc = 0.0\n",
    "b = 0.5 \n",
    "\n",
    "##Star properties (from Ellen)\n",
    "mass = 1.00\n",
    "masserr = 0.04\n",
    "radius = 1.09\n",
    "radiuserr = 0.09\n",
    "u1 = 0.44 #Claret\n",
    "u2 = 0.24 #Claret\n",
    "diffLD = u1-u2\n",
    "\n",
    "# Kepler cadence\n",
    "tKep = 29.42/(60.0*24.0)\n",
    "\n",
    "allfixed = [period, ecc,  mass, masserr, radius, radiuserr, diffLD, tKep]"
   ]
  },
  {
   "cell_type": "code",
   "execution_count": 18,
   "metadata": {
    "collapsed": true
   },
   "outputs": [],
   "source": [
    "def lnlike(theta, timeLC, fluxLC, errorLC, allfixed):\n",
    "    \"\"\"\n",
    "    Calculates the log of the likelihood of the transit model being the right model given the following parameters:\n",
    "    theta[0] = pdepth = (Rp/Rs)^2\n",
    "    theta[1] = pb = the impact parameter \n",
    "    theta[2] = pt0 = the time of transit\n",
    "    theta[3] = sigma = an additional white noise term\n",
    "    theta[4] = u1 + u2 = sum of LD coefficients\n",
    "    theta[5] = pmass = the mass of the star (controlled via gaussian prior)\n",
    "    theta[6] = pradius = the radius of the star (controlled via gaussian prior)\n",
    "    theta[7] = f0 = the out of eclipse flux\n",
    "    \"\"\"\n",
    "    # Theta: Vector containing the variables listed above. \n",
    "    pdepth, pb, pt0, sigma, sumLD, pmass, pradius, f0 = theta\n",
    "    \n",
    "    #Below are the parameters entered in the previous window. \n",
    "    period, ecc, mass, masserr, radius, radiuserr, diffLD, tKep = allfixed \n",
    "    \n",
    "    # Redefinition of the LD coefficients with the parameters used in this function. \n",
    "    u1 = 0.5*(sumLD+diffLD) # u1 = 0.5*(u1+u2+(u1-u2)) = 0.5(2u1) = u1\n",
    "    u2 = sumLD-u1 # u2 = (u1+u2)-u1 = u2\n",
    "    \n",
    "    #Use of the transit library. We will generate an artificial light curve with the parameters that we know \n",
    "    #and with those that we want to fit. \n",
    "    \n",
    "    # First step: We use the \"transit.System(transit.Central()))\" module to create a planetary 'system' with a \n",
    "    #'central' bright star and a number N (>=0) of bodies in orbit. As the website notes, the default orbits of such\n",
    "    # celestial objects are 100% Keplerian unless specified with subclasses. The parameters used to model the\n",
    "    # 'central' star are the LD coefficients (mu1, mu2), its mass (pmass), and its radius (pradius). We have chosen\n",
    "    # not to include the number of bodies in the system. \n",
    "\n",
    "    s = transit.System(transit.Central(mu1=u1, mu2=u2, mass = pmass, radius = pradius))\n",
    "    \n",
    "    # Second step: We will use the \"transit.Body\" library to define the properties of our planet in the planetary system. \n",
    "    # The input parameters are the radius of the planet (r=Rp: this is calculated by taking the sqrt of\n",
    "    # pdepth -- obtaining Rp/Rs -- and then multiplying by the radius of the star (pradius, which corresponds to Rs)\n",
    "    # to obtain Rp), its period (given in the previous window), the time at which the transit occurs (t0 = pt0), the \n",
    "    # absolute value of the impact parameter, and the eccentricity (which we have also defined in the previous window.) \n",
    "    \n",
    "    body = transit.Body(r=np.sqrt(pdepth)*pradius, period=period, t0=pt0, b=np.abs(pb), e=ecc)\n",
    "    \n",
    "    # Third step: Add the planet to the system s. \n",
    "    s.add_body(body)\n",
    "    \n",
    "    # Fourth step: []\n",
    "        # Question: Why do we need this?\n",
    "    inv_sigma2 = 1.0/(errorLC**2 + sigma**2)\n",
    "    \n",
    "    # Fifth step: With the definitions of our planet and star, we create a theoretical curve and name it ftheo.\n",
    "    # The input parameters are the times where the light curve should be evaluated in days (timeLC), the time of \n",
    "    # exposure (texp = tKep), the \"stopping criterion for the exposure time integration\" (t01=10^-8), and the \n",
    "    # \"maximum depth of the exposure time integrator\" (maxdepth).\n",
    "    \n",
    "        # Questions: How do we infer the values for tol and maxdepth? \n",
    "    ftheo = s.light_curve(timeLC, texp=tKep, tol=1e-08, maxdepth=4)\n",
    "    \n",
    "    # Sixth Step: We subtract 1 and add the out of eclipse flux (f0) to our theoretical light curve.  \n",
    "        #Question: Are we subtracting 1 to normalize the curve? Why is it important to add f0?\n",
    "    \n",
    "    ftheo = ftheo-1+f0\n",
    "    \n",
    "    # Seventh Step: Returns probability of the theoretical model to be the right model given the parameters that\n",
    "    # characterize the star and the planet in our system.\n",
    "    \n",
    "        # Question: Don't really understand how this probability is calculated. \n",
    "    return -0.5*(np.sum((fluxLC-ftheo)**2*inv_sigma2 - np.log(inv_sigma2)) + ((pmass-mass)/masserr)**2\n",
    "            + ((pradius-radius)/radiuserr)**2)"
   ]
  },
  {
   "cell_type": "code",
   "execution_count": 20,
   "metadata": {
    "collapsed": true
   },
   "outputs": [],
   "source": [
    "def lnprior(theta):\n",
    "    pdepth, pb, pt0, sigma, sumLD, pmass, pradius, f0 = theta\n",
    "    if (0.4 < sumLD < 1.0) and (0 <= pb <1.0) and (0 <= sigma):\n",
    "        return 0.0\n",
    "    return -np.inf"
   ]
  },
  {
   "cell_type": "code",
   "execution_count": 21,
   "metadata": {
    "collapsed": true
   },
   "outputs": [],
   "source": [
    "def lnprob(theta, timeLC, fluxLC, errorLC, allfixed):\n",
    "    lp = lnprior(theta)\n",
    "    if not np.isfinite(lp):\n",
    "        return -np.inf\n",
    "    return lp + lnlike(theta, timeLC, fluxLC, errorLC, allfixed)"
   ]
  },
  {
   "cell_type": "code",
   "execution_count": 15,
   "metadata": {
    "collapsed": false
   },
   "outputs": [
    {
     "name": "stdout",
     "output_type": "stream",
     "text": [
      "Optimization terminated successfully.\n",
      "         Current function value: -2675.866823\n",
      "         Iterations: 593\n",
      "         Function evaluations: 917\n"
     ]
    }
   ],
   "source": [
    "nll = lambda *args: -lnprob(*args)\n",
    "result = op.minimize(nll, [1.2*depth, b, 0.0, 0.0, 0.6, mass, radius, 1.0], \n",
    "                     args=(timeLC, fluxLC, errorLC, allfixed), options={'disp': True}, method='Nelder-Mead')\n",
    "depth_ml, b_ml,  t0_ml, sigma_ml, sumLD_ml, mass_ml, radius_ml, f0_ml  = result[\"x\"]\n",
    "u1_ml = 0.5*(sumLD_ml + diffLD)\n",
    "u2_ml = sumLD_ml-u1_ml"
   ]
  },
  {
   "cell_type": "code",
   "execution_count": 8,
   "metadata": {
    "collapsed": true
   },
   "outputs": [],
   "source": [
    "# Compute the light curve integrated over a Kepler long cadence\n",
    "# exposure time.\n",
    "s = transit.System(transit.Central(mu1=u1_ml, mu2=u2_ml, mass = mass_ml, radius = radius_ml ))\n",
    "body = transit.Body(r=np.sqrt(depth_ml)*radius_ml, period=period, t0=t0_ml, b=b_ml, e=ecc)\n",
    "s.add_body(body)\n",
    "t = np.arange(-1, 1, tKep*0.01)\n",
    "f = s.light_curve(t, texp=tKep, tol=1e-08, maxdepth=4)\n",
    "f = f-1.0 + f0_ml"
   ]
  },
  {
   "cell_type": "code",
   "execution_count": 9,
   "metadata": {
    "collapsed": false
   },
   "outputs": [
    {
     "data": {
      "text/plain": [
       "[<matplotlib.lines.Line2D at 0x10ae73550>]"
      ]
     },
     "execution_count": 9,
     "metadata": {},
     "output_type": "execute_result"
    },
    {
     "data": {
      "image/png": "[encoded data removed]",
      "text/plain": [
       "<matplotlib.figure.Figure at 0x10add9c90>"
      ]
     },
     "metadata": {},
     "output_type": "display_data"
    }
   ],
   "source": [
    "# Plot the results\n",
    "fig = plt.figure(figsize=(15,4))\n",
    "ax = fig.add_subplot(1,2,1)\n",
    "ax.scatter(24.0*timeLC,fluxLC)\n",
    "plt.xlim([-2.0, 2.0]) \n",
    "plt.ylim([1-depth*1.5, depth*0.5+1]) \n",
    "ax.set_xlabel('Time from midtransit [hours]')\n",
    "ax.set_ylabel('Relative flux')\n",
    "ax.plot(24.0*t, f)"
   ]
  },
  {
   "cell_type": "code",
   "execution_count": 10,
   "metadata": {
    "collapsed": false
   },
   "outputs": [
    {
     "data": {
      "text/plain": [
       "(0.00017649681403018622,\n",
       " 0.51840307890403792,\n",
       " 0.00016879320948069183,\n",
       " 6.266089468994943e-06)"
      ]
     },
     "execution_count": 10,
     "metadata": {},
     "output_type": "execute_result"
    }
   ],
   "source": [
    "depth_ml, b_ml,  t0_ml, sigma_ml"
   ]
  },
  {
   "cell_type": "code",
   "execution_count": 11,
   "metadata": {
    "collapsed": true
   },
   "outputs": [],
   "source": [
    "ndim, nwalkers = 8, 100\n",
    "pos = [result[\"x\"]*(1+1e-3*np.random.randn(ndim)) for i in range(nwalkers)]"
   ]
  },
  {
   "cell_type": "code",
   "execution_count": null,
   "metadata": {
    "collapsed": true
   },
   "outputs": [],
   "source": [
    "sampler = emcee.EnsembleSampler(nwalkers, ndim, lnprob, args=(timeLC, fluxLC, errorLC, allfixed))\n",
    "sampler.run_mcmc(pos, 5000)"
   ]
  },
  {
   "cell_type": "code",
   "execution_count": null,
   "metadata": {
    "collapsed": true
   },
   "outputs": [],
   "source": [
    "samples = sampler.chain[:, 500:, :].reshape((-1, ndim)) #Burn in portion to remove (currently %10)"
   ]
  },
  {
   "cell_type": "code",
   "execution_count": null,
   "metadata": {
    "collapsed": true
   },
   "outputs": [],
   "source": [
    "import triangle\n",
    "fig = triangle.corner(samples, labels=[\"$Depth$\", \"$b$\", \"$t0$\", \"sigma\", \"u1+u2\", \"M_s\", \"R_s\", \"f0\"]) #truths=[m_true, b_true, np.log(f_true)   , \n",
    "fig.savefig(\"triangle.png\")"
   ]
  },
  {
   "cell_type": "code",
   "execution_count": null,
   "metadata": {
    "collapsed": true
   },
   "outputs": [],
   "source": [
    "samples[:, 2] = np.exp(samples[:, 2])\n",
    "\n",
    "planetradsamp = 109.045*np.sqrt(samples[:,0])*samples[:, 6]\n",
    "\n",
    "G = 6.6730e-11\n",
    "P1 = period*24.0*3600.0\n",
    "r_asamp = ((3.0*np.pi/(G*P1**2))*((samples[:,6]**3/samples[:, 5])/1408.0))**0.3333\n",
    "\n",
    "depth_mcmc, b_mcmc,  t0_mcmc, sigma_mcmc, sumLD_mcmc, mass_mcmc, radius_mcmc, f0_mcmc = map(lambda v: \n",
    "                            (v[1], v[2]-v[1], v[1]-v[0]), zip(*np.percentile(samples, [15.86, 50, 84.14], axis=0)))\n",
    "\n",
    "v = np.percentile(planetradsamp, [16, 50, 84], axis=0)\n",
    "planetrad_mcmc =(v[1], v[2]-v[1], v[1]-v[0])\n",
    "\n",
    "v = np.percentile(r_asamp, [16, 50, 84], axis=0)\n",
    "r_a_mcmc =(v[1], v[2]-v[1], v[1]-v[0])"
   ]
  },
  {
   "cell_type": "code",
   "execution_count": null,
   "metadata": {
    "collapsed": true
   },
   "outputs": [],
   "source": [
    "planetrad_mcmc "
   ]
  },
  {
   "cell_type": "code",
   "execution_count": null,
   "metadata": {
    "collapsed": true
   },
   "outputs": [],
   "source": [
    "r_a_mcmc"
   ]
  },
  {
   "cell_type": "code",
   "execution_count": null,
   "metadata": {
    "collapsed": true
   },
   "outputs": [],
   "source": []
  }
 ],
 "metadata": {
  "kernelspec": {
   "display_name": "Python 2",
   "language": "python",
   "name": "python2"
  },
  "language_info": {
   "codemirror_mode": {
    "name": "ipython",
    "version": 2
   },
   "file_extension": ".py",
   "mimetype": "text/x-python",
   "name": "python",
   "nbconvert_exporter": "python",
   "pygments_lexer": "ipython2",
   "version": "2.7.10"
  }
 },
 "nbformat": 4,
 "nbformat_minor": 0
}
